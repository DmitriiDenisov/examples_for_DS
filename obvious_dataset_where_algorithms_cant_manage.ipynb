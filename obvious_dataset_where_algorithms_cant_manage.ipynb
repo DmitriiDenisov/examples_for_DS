{
  "nbformat": 4,
  "nbformat_minor": 0,
  "metadata": {
    "colab": {
      "name": "Experiments with synthetic dataset",
      "provenance": [],
      "collapsed_sections": [],
      "toc_visible": true
    },
    "kernelspec": {
      "display_name": "Python 3",
      "name": "python3"
    }
  },
  "cells": [
    {
      "cell_type": "markdown",
      "metadata": {
        "id": "et882e3vUlmJ",
        "colab_type": "text"
      },
      "source": [
        "## Here you will find an example when a very simple dataset can't be separeted with ML algorithms without any feature engineering, but meanwhile you will find that the dataset itself is extremely easy"
      ]
    },
    {
      "cell_type": "code",
      "metadata": {
        "id": "enmbDm_x51cX",
        "colab_type": "code",
        "colab": {}
      },
      "source": [
        "import numpy as np\n",
        "import matplotlib.pyplot as plt\n",
        "import pandas as pd\n",
        "import numpy as np\n",
        "from xgboost import XGBClassifier\n",
        "from sklearn.ensemble import RandomForestClassifier\n",
        "from sklearn.linear_model import LogisticRegression\n",
        "from sklearn.metrics import f1_score, precision_score, recall_score\n",
        "from sklearn.model_selection import train_test_split"
      ],
      "execution_count": 0,
      "outputs": []
    },
    {
      "cell_type": "markdown",
      "metadata": {
        "id": "bNWt5dyCOnZW",
        "colab_type": "text"
      },
      "source": [
        "At first just have a look at the structure:"
      ]
    },
    {
      "cell_type": "code",
      "metadata": {
        "id": "4Y6yfxu9v5F1",
        "colab_type": "code",
        "outputId": "5bec6a7e-54ea-4d92-9f66-0713b640d6fd",
        "colab": {
          "base_uri": "https://localhost:8080/",
          "height": 281
        }
      },
      "source": [
        "#Create the minority points\n",
        "x_min = np.linspace(0, 30, 8)\n",
        "y1_min = x_min+2\n",
        "y2_min = x_min-2\n",
        "X_min = np.hstack([x_min, x_min])\n",
        "Y_min = np.hstack([y1_min, y2_min])\n",
        "minority = np.concatenate([X_min[np.newaxis, :], Y_min[np.newaxis, :]], axis=0).T\n",
        "\n",
        "#Create the majority points\n",
        "x_max = np.linspace(0,30, 40)\n",
        "y1_max = x_max\n",
        "y2_max = y1_max + (np.random.rand(40)-0.5)*2\n",
        "X_max = np.hstack([x_max, x_max])\n",
        "Y_max = np.hstack([y1_max, y2_max])\n",
        "majority = np.concatenate([X_max[np.newaxis, :], Y_max[np.newaxis, :]], axis=0).T\n",
        "\n",
        "x = np.concatenate([minority, majority], axis=0)\n",
        "y = np.array([1] * 2 * 8 + [0] * 2 * 40)\n",
        "assert x.shape[0] == len(y)\n",
        "\n",
        "#Plot the points\n",
        "plt.plot(X_min, Y_min, 'ro', ms=4, label='minority')\n",
        "plt.plot(X_max, Y_max, 'bo', ms=2, label='majority')\n",
        "plt.title('Example: Advantage Gamma')\n",
        "plt.legend()\n",
        "plt.show()"
      ],
      "execution_count": 3,
      "outputs": [
        {
          "output_type": "display_data",
          "data": {
            "image/png": "[encoded data removed]",
            "text/plain": [
              "<Figure size 432x288 with 1 Axes>"
            ]
          },
          "metadata": {
            "tags": []
          }
        }
      ]
    },
    {
      "cell_type": "markdown",
      "metadata": {
        "id": "6kDhu08NOr8M",
        "colab_type": "text"
      },
      "source": [
        "Now we create a function which generates a dataset with the same structure as dataset above"
      ]
    },
    {
      "cell_type": "code",
      "metadata": {
        "id": "M6DFwZp35Tvc",
        "colab_type": "code",
        "colab": {}
      },
      "source": [
        "def generate_synthetic_dataset():\n",
        "    # Create the minority points\n",
        "    n_minority = 250\n",
        "    x_min = np.linspace(0, 1000, n_minority)\n",
        "    y1_min = x_min + 2\n",
        "    y2_min = x_min - 2\n",
        "    X_min = np.hstack([x_min, x_min])\n",
        "    Y_min = np.hstack([y1_min, y2_min])\n",
        "    minority = np.concatenate([X_min[np.newaxis, :], Y_min[np.newaxis, :]], axis=0).T\n",
        "\n",
        "    # Create the majority points\n",
        "    n_majority = 2500\n",
        "    x_max = np.linspace(0, 1000, n_majority)\n",
        "    y1_max = x_max\n",
        "    y2_max = y1_max + (np.random.rand(n_majority) - 0.5) * 2\n",
        "    X_max = np.hstack([x_max, x_max])\n",
        "    Y_max = np.hstack([y1_max, y2_max])\n",
        "    majority = np.concatenate([X_max[np.newaxis, :], Y_max[np.newaxis, :]], axis=0).T\n",
        "\n",
        "    x = np.concatenate([minority, majority], axis=0)\n",
        "    y = np.array([1] * 2 * n_minority + [0] * 2 * n_majority)\n",
        "    assert x.shape[0] == len(y)\n",
        "\n",
        "    #Plot the points\n",
        "    plt.plot(X_min, Y_min, 'ro', ms=4, label='minority')\n",
        "    plt.plot(X_max, Y_max, 'bo', ms=2, label='majority')\n",
        "    plt.title('Example: Advantage Gamma')\n",
        "    plt.legend()\n",
        "    plt.show()\n",
        "\n",
        "    return x, y"
      ],
      "execution_count": 0,
      "outputs": []
    },
    {
      "cell_type": "code",
      "metadata": {
        "id": "2cHPMZKH5aTG",
        "colab_type": "code",
        "colab": {
          "base_uri": "https://localhost:8080/",
          "height": 281
        },
        "outputId": "529d4ec9-849e-4faa-e96c-255429df93eb"
      },
      "source": [
        "# get our dataset\n",
        "x, y = generate_synthetic_dataset()"
      ],
      "execution_count": 5,
      "outputs": [
        {
          "output_type": "display_data",
          "data": {
            "image/png": "[encoded data removed]",
            "text/plain": [
              "<Figure size 432x288 with 1 Axes>"
            ]
          },
          "metadata": {
            "tags": []
          }
        }
      ]
    },
    {
      "cell_type": "code",
      "metadata": {
        "id": "cqcVkhrjv5RT",
        "colab_type": "code",
        "outputId": "45c8faf9-9023-4a28-e3a0-4598b34aeeee",
        "colab": {
          "base_uri": "https://localhost:8080/",
          "height": 419
        }
      },
      "source": [
        "x = pd.DataFrame(x)\n",
        "x"
      ],
      "execution_count": 6,
      "outputs": [
        {
          "output_type": "execute_result",
          "data": {
            "text/html": [
              "<div>\n",
              "<style scoped>\n",
              "    .dataframe tbody tr th:only-of-type {\n",
              "        vertical-align: middle;\n",
              "    }\n",
              "\n",
              "    .dataframe tbody tr th {\n",
              "        vertical-align: top;\n",
              "    }\n",
              "\n",
              "    .dataframe thead th {\n",
              "        text-align: right;\n",
              "    }\n",
              "</style>\n",
              "<table border=\"1\" class=\"dataframe\">\n",
              "  <thead>\n",
              "    <tr style=\"text-align: right;\">\n",
              "      <th></th>\n",
              "      <th>0</th>\n",
              "      <th>1</th>\n",
              "    </tr>\n",
              "  </thead>\n",
              "  <tbody>\n",
              "    <tr>\n",
              "      <th>0</th>\n",
              "      <td>0.000000</td>\n",
              "      <td>2.000000</td>\n",
              "    </tr>\n",
              "    <tr>\n",
              "      <th>1</th>\n",
              "      <td>4.016064</td>\n",
              "      <td>6.016064</td>\n",
              "    </tr>\n",
              "    <tr>\n",
              "      <th>2</th>\n",
              "      <td>8.032129</td>\n",
              "      <td>10.032129</td>\n",
              "    </tr>\n",
              "    <tr>\n",
              "      <th>3</th>\n",
              "      <td>12.048193</td>\n",
              "      <td>14.048193</td>\n",
              "    </tr>\n",
              "    <tr>\n",
              "      <th>4</th>\n",
              "      <td>16.064257</td>\n",
              "      <td>18.064257</td>\n",
              "    </tr>\n",
              "    <tr>\n",
              "      <th>...</th>\n",
              "      <td>...</td>\n",
              "      <td>...</td>\n",
              "    </tr>\n",
              "    <tr>\n",
              "      <th>5495</th>\n",
              "      <td>998.399360</td>\n",
              "      <td>999.094208</td>\n",
              "    </tr>\n",
              "    <tr>\n",
              "      <th>5496</th>\n",
              "      <td>998.799520</td>\n",
              "      <td>998.987651</td>\n",
              "    </tr>\n",
              "    <tr>\n",
              "      <th>5497</th>\n",
              "      <td>999.199680</td>\n",
              "      <td>998.591371</td>\n",
              "    </tr>\n",
              "    <tr>\n",
              "      <th>5498</th>\n",
              "      <td>999.599840</td>\n",
              "      <td>998.754317</td>\n",
              "    </tr>\n",
              "    <tr>\n",
              "      <th>5499</th>\n",
              "      <td>1000.000000</td>\n",
              "      <td>999.601583</td>\n",
              "    </tr>\n",
              "  </tbody>\n",
              "</table>\n",
              "<p>5500 rows × 2 columns</p>\n",
              "</div>"
            ],
            "text/plain": [
              "                0           1\n",
              "0        0.000000    2.000000\n",
              "1        4.016064    6.016064\n",
              "2        8.032129   10.032129\n",
              "3       12.048193   14.048193\n",
              "4       16.064257   18.064257\n",
              "...           ...         ...\n",
              "5495   998.399360  999.094208\n",
              "5496   998.799520  998.987651\n",
              "5497   999.199680  998.591371\n",
              "5498   999.599840  998.754317\n",
              "5499  1000.000000  999.601583\n",
              "\n",
              "[5500 rows x 2 columns]"
            ]
          },
          "metadata": {
            "tags": []
          },
          "execution_count": 6
        }
      ]
    },
    {
      "cell_type": "markdown",
      "metadata": {
        "id": "c_sd_-G0PAko",
        "colab_type": "text"
      },
      "source": [
        "Now usual process - fit&predict:"
      ]
    },
    {
      "cell_type": "markdown",
      "metadata": {
        "id": "qrTkgZUZP_kL",
        "colab_type": "text"
      },
      "source": [
        "### 1. RF:"
      ]
    },
    {
      "cell_type": "code",
      "metadata": {
        "id": "6k8HtL8uxya4",
        "colab_type": "code",
        "outputId": "c638a890-e12d-40a3-c9a6-85c46772bda8",
        "colab": {
          "base_uri": "https://localhost:8080/",
          "height": 68
        }
      },
      "source": [
        "X_train, X_test, y_train, y_test = train_test_split(x, y, test_size=0.2)\n",
        "\n",
        "clf = RandomForestClassifier(n_estimators=20)\n",
        "clf.fit(X_train, y_train)\n",
        "\n",
        "y_pred = clf.predict(X_test)\n",
        "print(f1_score(y_test, y_pred))\n",
        "print(precision_score(y_test, y_pred))\n",
        "print(recall_score(y_test, y_pred))"
      ],
      "execution_count": 7,
      "outputs": [
        {
          "output_type": "stream",
          "text": [
            "0.0\n",
            "0.0\n",
            "0.0\n"
          ],
          "name": "stdout"
        }
      ]
    },
    {
      "cell_type": "code",
      "metadata": {
        "id": "OvPqron5zoJs",
        "colab_type": "code",
        "outputId": "4ceeb53e-ee5d-42d7-ac4d-bf152252b3be",
        "colab": {
          "base_uri": "https://localhost:8080/",
          "height": 68
        }
      },
      "source": [
        "print(f1_score(y_train, clf.predict(X_train)))\n",
        "print(precision_score(y_train, clf.predict(X_train)))\n",
        "print(recall_score(y_train, clf.predict(X_train)))"
      ],
      "execution_count": 8,
      "outputs": [
        {
          "output_type": "stream",
          "text": [
            "0.9884169884169884\n",
            "1.0\n",
            "0.9770992366412213\n"
          ],
          "name": "stdout"
        }
      ]
    },
    {
      "cell_type": "markdown",
      "metadata": {
        "id": "H-0hWX4SQDmZ",
        "colab_type": "text"
      },
      "source": [
        "### 2. XGB:"
      ]
    },
    {
      "cell_type": "code",
      "metadata": {
        "id": "x7NyguU5PSZD",
        "colab_type": "code",
        "colab": {
          "base_uri": "https://localhost:8080/",
          "height": 122
        },
        "outputId": "9b013cc5-a07e-4c3e-cccc-b9191eef8ad4"
      },
      "source": [
        "X_train, X_test, y_train, y_test = train_test_split(x, y, test_size=0.2)\n",
        "\n",
        "clf = XGBClassifier(n_estimators=200)\n",
        "clf.fit(X_train, y_train)\n",
        "\n",
        "y_pred = clf.predict(X_test)\n",
        "print(f1_score(y_test, y_pred))\n",
        "print(precision_score(y_test, y_pred))\n",
        "print(recall_score(y_test, y_pred))"
      ],
      "execution_count": 9,
      "outputs": [
        {
          "output_type": "stream",
          "text": [
            "0.0\n",
            "0.0\n",
            "0.0\n"
          ],
          "name": "stdout"
        },
        {
          "output_type": "stream",
          "text": [
            "/usr/local/lib/python3.6/dist-packages/sklearn/metrics/_classification.py:1272: UndefinedMetricWarning: Precision is ill-defined and being set to 0.0 due to no predicted samples. Use `zero_division` parameter to control this behavior.\n",
            "  _warn_prf(average, modifier, msg_start, len(result))\n"
          ],
          "name": "stderr"
        }
      ]
    },
    {
      "cell_type": "markdown",
      "metadata": {
        "id": "W5uLfD4WQGNh",
        "colab_type": "text"
      },
      "source": [
        "### 3. NN:"
      ]
    },
    {
      "cell_type": "code",
      "metadata": {
        "id": "C4kBe_pfPh4V",
        "colab_type": "code",
        "colab": {
          "base_uri": "https://localhost:8080/",
          "height": 80
        },
        "outputId": "297eb3ff-1548-4d91-92ea-fbd4cc8ffb22"
      },
      "source": [
        "from keras import backend as K\n",
        "\n",
        "\n",
        "def f1(y_true, y_pred):\n",
        "    def recall(y_true, y_pred):\n",
        "        \"\"\"Recall metric.\n",
        "\n",
        "        Only computes a batch-wise average of recall.\n",
        "\n",
        "        Computes the recall, a metric for multi-label classification of\n",
        "        how many relevant items are selected.\n",
        "        \"\"\"\n",
        "        true_positives = K.sum(K.round(K.clip(y_true * y_pred, 0, 1)))\n",
        "        possible_positives = K.sum(K.round(K.clip(y_true, 0, 1)))\n",
        "        recall = true_positives / (possible_positives + K.epsilon())\n",
        "        return recall\n",
        "\n",
        "    def precision(y_true, y_pred):\n",
        "        \"\"\"Precision metric.\n",
        "\n",
        "        Only computes a batch-wise average of precision.\n",
        "\n",
        "        Computes the precision, a metric for multi-label classification of\n",
        "        how many selected items are relevant.\n",
        "        \"\"\"\n",
        "        true_positives = K.sum(K.round(K.clip(y_true * y_pred, 0, 1)))\n",
        "        predicted_positives = K.sum(K.round(K.clip(y_pred, 0, 1)))\n",
        "        precision = true_positives / (predicted_positives + K.epsilon())\n",
        "        return precision\n",
        "\n",
        "    precision = precision(y_true, y_pred)\n",
        "    recall = recall(y_true, y_pred)\n",
        "    return 2 * ((precision * recall) / (precision + recall + K.epsilon()))\n"
      ],
      "execution_count": 10,
      "outputs": [
        {
          "output_type": "stream",
          "text": [
            "Using TensorFlow backend.\n"
          ],
          "name": "stderr"
        },
        {
          "output_type": "display_data",
          "data": {
            "text/html": [
              "<p style=\"color: red;\">\n",
              "The default version of TensorFlow in Colab will soon switch to TensorFlow 2.x.<br>\n",
              "We recommend you <a href=\"https://www.tensorflow.org/guide/migrate\" target=\"_blank\">upgrade</a> now \n",
              "or ensure your notebook will continue to use TensorFlow 1.x via the <code>%tensorflow_version 1.x</code> magic:\n",
              "<a href=\"https://colab.research.google.com/notebooks/tensorflow_version.ipynb\" target=\"_blank\">more info</a>.</p>\n"
            ],
            "text/plain": [
              "<IPython.core.display.HTML object>"
            ]
          },
          "metadata": {
            "tags": []
          }
        }
      ]
    },
    {
      "cell_type": "code",
      "metadata": {
        "id": "ut7p0nklPlDp",
        "colab_type": "code",
        "colab": {
          "base_uri": "https://localhost:8080/",
          "height": 1000
        },
        "outputId": "6f2e61ee-99e9-462c-f4f5-8a46b789b015"
      },
      "source": [
        "from keras import Sequential\n",
        "from keras.layers import Dense\n",
        "\n",
        "model = Sequential()\n",
        "model.add(Dense(32, activation='relu', input_dim=x.shape[1]))\n",
        "model.add(Dense(1, activation='sigmoid'))\n",
        "model.compile(optimizer='adam',\n",
        "              loss='binary_crossentropy',\n",
        "              metrics=['accuracy', f1])\n",
        "# model.fit(X, y, epochs=100, verbose=0)\n",
        "model.fit(X_train, y_train, epochs=50, verbose=2)"
      ],
      "execution_count": 11,
      "outputs": [
        {
          "output_type": "stream",
          "text": [
            "WARNING:tensorflow:From /usr/local/lib/python3.6/dist-packages/keras/backend/tensorflow_backend.py:66: The name tf.get_default_graph is deprecated. Please use tf.compat.v1.get_default_graph instead.\n",
            "\n",
            "WARNING:tensorflow:From /usr/local/lib/python3.6/dist-packages/keras/backend/tensorflow_backend.py:541: The name tf.placeholder is deprecated. Please use tf.compat.v1.placeholder instead.\n",
            "\n",
            "WARNING:tensorflow:From /usr/local/lib/python3.6/dist-packages/keras/backend/tensorflow_backend.py:4432: The name tf.random_uniform is deprecated. Please use tf.random.uniform instead.\n",
            "\n",
            "WARNING:tensorflow:From /usr/local/lib/python3.6/dist-packages/keras/optimizers.py:793: The name tf.train.Optimizer is deprecated. Please use tf.compat.v1.train.Optimizer instead.\n",
            "\n",
            "WARNING:tensorflow:From /usr/local/lib/python3.6/dist-packages/keras/backend/tensorflow_backend.py:3657: The name tf.log is deprecated. Please use tf.math.log instead.\n",
            "\n",
            "WARNING:tensorflow:From /usr/local/lib/python3.6/dist-packages/tensorflow_core/python/ops/nn_impl.py:183: where (from tensorflow.python.ops.array_ops) is deprecated and will be removed in a future version.\n",
            "Instructions for updating:\n",
            "Use tf.where in 2.0, which has the same broadcast rule as np.where\n",
            "WARNING:tensorflow:From /usr/local/lib/python3.6/dist-packages/keras/backend/tensorflow_backend.py:1033: The name tf.assign_add is deprecated. Please use tf.compat.v1.assign_add instead.\n",
            "\n",
            "WARNING:tensorflow:From /usr/local/lib/python3.6/dist-packages/keras/backend/tensorflow_backend.py:1020: The name tf.assign is deprecated. Please use tf.compat.v1.assign instead.\n",
            "\n",
            "WARNING:tensorflow:From /usr/local/lib/python3.6/dist-packages/keras/backend/tensorflow_backend.py:3005: The name tf.Session is deprecated. Please use tf.compat.v1.Session instead.\n",
            "\n",
            "Epoch 1/50\n",
            "WARNING:tensorflow:From /usr/local/lib/python3.6/dist-packages/keras/backend/tensorflow_backend.py:190: The name tf.get_default_session is deprecated. Please use tf.compat.v1.get_default_session instead.\n",
            "\n",
            "WARNING:tensorflow:From /usr/local/lib/python3.6/dist-packages/keras/backend/tensorflow_backend.py:197: The name tf.ConfigProto is deprecated. Please use tf.compat.v1.ConfigProto instead.\n",
            "\n",
            "WARNING:tensorflow:From /usr/local/lib/python3.6/dist-packages/keras/backend/tensorflow_backend.py:207: The name tf.global_variables is deprecated. Please use tf.compat.v1.global_variables instead.\n",
            "\n",
            "WARNING:tensorflow:From /usr/local/lib/python3.6/dist-packages/keras/backend/tensorflow_backend.py:216: The name tf.is_variable_initialized is deprecated. Please use tf.compat.v1.is_variable_initialized instead.\n",
            "\n",
            "WARNING:tensorflow:From /usr/local/lib/python3.6/dist-packages/keras/backend/tensorflow_backend.py:223: The name tf.variables_initializer is deprecated. Please use tf.compat.v1.variables_initializer instead.\n",
            "\n",
            " - 0s - loss: 0.6427 - acc: 0.9005 - f1: 0.0061\n",
            "Epoch 2/50\n",
            " - 0s - loss: 0.4712 - acc: 0.8993 - f1: 0.0027\n",
            "Epoch 3/50\n",
            " - 0s - loss: 0.4076 - acc: 0.9043 - f1: 0.0014\n",
            "Epoch 4/50\n",
            " - 0s - loss: 0.4277 - acc: 0.8980 - f1: 0.0030\n",
            "Epoch 5/50\n",
            " - 0s - loss: 0.3796 - acc: 0.9009 - f1: 0.0013\n",
            "Epoch 6/50\n",
            " - 0s - loss: 0.3717 - acc: 0.9045 - f1: 0.0047\n",
            "Epoch 7/50\n",
            " - 0s - loss: 0.4021 - acc: 0.9002 - f1: 0.0015\n",
            "Epoch 8/50\n",
            " - 0s - loss: 0.3677 - acc: 0.9016 - f1: 0.0019\n",
            "Epoch 9/50\n",
            " - 0s - loss: 0.4381 - acc: 0.8973 - f1: 0.0092\n",
            "Epoch 10/50\n",
            " - 0s - loss: 0.3553 - acc: 0.9050 - f1: 0.0028\n",
            "Epoch 11/50\n",
            " - 0s - loss: 0.3913 - acc: 0.8993 - f1: 0.0043\n",
            "Epoch 12/50\n",
            " - 0s - loss: 0.3718 - acc: 0.9050 - f1: 0.0074\n",
            "Epoch 13/50\n",
            " - 0s - loss: 0.3862 - acc: 0.9025 - f1: 0.0079\n",
            "Epoch 14/50\n",
            " - 0s - loss: 0.3762 - acc: 0.9027 - f1: 0.0036\n",
            "Epoch 15/50\n",
            " - 0s - loss: 0.3579 - acc: 0.9059 - f1: 0.0034\n",
            "Epoch 16/50\n",
            " - 0s - loss: 0.3574 - acc: 0.9064 - f1: 0.0060\n",
            "Epoch 17/50\n",
            " - 0s - loss: 0.3321 - acc: 0.9080 - f1: 0.0029\n",
            "Epoch 18/50\n",
            " - 0s - loss: 0.3464 - acc: 0.9057 - f1: 0.0078\n",
            "Epoch 19/50\n",
            " - 0s - loss: 0.3881 - acc: 0.9000 - f1: 0.0069\n",
            "Epoch 20/50\n",
            " - 0s - loss: 0.3699 - acc: 0.9034 - f1: 0.0032\n",
            "Epoch 21/50\n",
            " - 0s - loss: 0.4052 - acc: 0.9014 - f1: 0.0058\n",
            "Epoch 22/50\n",
            " - 0s - loss: 0.3727 - acc: 0.9030 - f1: 0.0080\n",
            "Epoch 23/50\n",
            " - 0s - loss: 0.3416 - acc: 0.9052 - f1: 0.0048\n",
            "Epoch 24/50\n",
            " - 0s - loss: 0.3881 - acc: 0.8977 - f1: 0.0069\n",
            "Epoch 25/50\n",
            " - 0s - loss: 0.3500 - acc: 0.9018 - f1: 0.0144\n",
            "Epoch 26/50\n",
            " - 0s - loss: 0.4324 - acc: 0.9036 - f1: 0.0056\n",
            "Epoch 27/50\n",
            " - 0s - loss: 0.3923 - acc: 0.8950 - f1: 0.0131\n",
            "Epoch 28/50\n",
            " - 0s - loss: 0.3479 - acc: 0.9036 - f1: 0.0048\n",
            "Epoch 29/50\n",
            " - 0s - loss: 0.3798 - acc: 0.9018 - f1: 0.0142\n",
            "Epoch 30/50\n",
            " - 0s - loss: 0.3628 - acc: 0.9048 - f1: 0.0030\n",
            "Epoch 31/50\n",
            " - 0s - loss: 0.4153 - acc: 0.8968 - f1: 0.0080\n",
            "Epoch 32/50\n",
            " - 0s - loss: 0.3524 - acc: 0.9043 - f1: 0.0048\n",
            "Epoch 33/50\n",
            " - 0s - loss: 0.3671 - acc: 0.9025 - f1: 0.0047\n",
            "Epoch 34/50\n",
            " - 0s - loss: 0.3788 - acc: 0.8970 - f1: 0.0084\n",
            "Epoch 35/50\n",
            " - 0s - loss: 0.4033 - acc: 0.8934 - f1: 0.0127\n",
            "Epoch 36/50\n",
            " - 0s - loss: 0.3399 - acc: 0.9059 - f1: 0.0036\n",
            "Epoch 37/50\n",
            " - 0s - loss: 0.3807 - acc: 0.9002 - f1: 0.0123\n",
            "Epoch 38/50\n",
            " - 0s - loss: 0.3800 - acc: 0.9020 - f1: 0.0033\n",
            "Epoch 39/50\n",
            " - 0s - loss: 0.3891 - acc: 0.8957 - f1: 0.0040\n",
            "Epoch 40/50\n",
            " - 0s - loss: 0.3413 - acc: 0.9052 - f1: 0.0111\n",
            "Epoch 41/50\n",
            " - 0s - loss: 0.3919 - acc: 0.8959 - f1: 0.0115\n",
            "Epoch 42/50\n",
            " - 0s - loss: 0.3592 - acc: 0.9041 - f1: 0.0075\n",
            "Epoch 43/50\n",
            " - 0s - loss: 0.3725 - acc: 0.9034 - f1: 0.0154\n",
            "Epoch 44/50\n",
            " - 0s - loss: 0.3864 - acc: 0.8984 - f1: 0.0125\n",
            "Epoch 45/50\n",
            " - 0s - loss: 0.4067 - acc: 0.8950 - f1: 0.0108\n",
            "Epoch 46/50\n",
            " - 0s - loss: 0.3799 - acc: 0.9023 - f1: 0.0119\n",
            "Epoch 47/50\n",
            " - 0s - loss: 0.3455 - acc: 0.9041 - f1: 0.0050\n",
            "Epoch 48/50\n",
            " - 0s - loss: 0.3670 - acc: 0.9011 - f1: 0.0069\n",
            "Epoch 49/50\n",
            " - 0s - loss: 0.3429 - acc: 0.9061 - f1: 0.0039\n",
            "Epoch 50/50\n",
            " - 0s - loss: 0.3427 - acc: 0.9050 - f1: 0.0018\n"
          ],
          "name": "stdout"
        },
        {
          "output_type": "execute_result",
          "data": {
            "text/plain": [
              "<keras.callbacks.History at 0x7fdb09fbaa20>"
            ]
          },
          "metadata": {
            "tags": []
          },
          "execution_count": 11
        }
      ]
    },
    {
      "cell_type": "code",
      "metadata": {
        "id": "bEUPlDziPTwQ",
        "colab_type": "code",
        "colab": {
          "base_uri": "https://localhost:8080/",
          "height": 173
        },
        "outputId": "78f87699-f7dd-4a3f-a3d1-a5f95b91ea49"
      },
      "source": [
        "print(f1_score(y_test, np.around(model.predict(X_test))))\n",
        "print(precision_score(y_test, np.around(model.predict(X_test))))\n",
        "print(recall_score(y_test, np.around(model.predict(X_test))))\n",
        "\n",
        "print(f1_score(y_train, np.around(model.predict(X_train))))\n",
        "print(precision_score(y_train, np.around(model.predict(X_train))))\n",
        "print(recall_score(y_train, np.around(model.predict(X_train))))"
      ],
      "execution_count": 12,
      "outputs": [
        {
          "output_type": "stream",
          "text": [
            "0.0\n",
            "0.0\n",
            "0.0\n",
            "0.004914004914004914\n",
            "1.0\n",
            "0.0024630541871921183\n"
          ],
          "name": "stdout"
        },
        {
          "output_type": "stream",
          "text": [
            "/usr/local/lib/python3.6/dist-packages/sklearn/metrics/_classification.py:1272: UndefinedMetricWarning: Precision is ill-defined and being set to 0.0 due to no predicted samples. Use `zero_division` parameter to control this behavior.\n",
            "  _warn_prf(average, modifier, msg_start, len(result))\n"
          ],
          "name": "stderr"
        }
      ]
    },
    {
      "cell_type": "markdown",
      "metadata": {
        "id": "K5aPRp7KRFvf",
        "colab_type": "text"
      },
      "source": [
        "### 4. LogReg:"
      ]
    },
    {
      "cell_type": "code",
      "metadata": {
        "id": "-NhXS5HZ2IPl",
        "colab_type": "code",
        "colab": {
          "base_uri": "https://localhost:8080/",
          "height": 207
        },
        "outputId": "66e2b8aa-4fa3-45ac-bd83-303ac8447651"
      },
      "source": [
        "clf = LogisticRegression()\n",
        "clf.fit(X_train, y_train)\n",
        "y_pred = clf.predict(X_test)\n",
        "\n",
        "print(f1_score(y_test, y_pred))\n",
        "print(precision_score(y_test, y_pred))\n",
        "print(recall_score(y_test, y_pred))\n",
        "\n",
        "print(f1_score(y_train, clf.predict(X_train)))\n",
        "print(precision_score(y_train, clf.predict(X_train)))\n",
        "print(recall_score(y_train, clf.predict(X_train)))"
      ],
      "execution_count": 13,
      "outputs": [
        {
          "output_type": "stream",
          "text": [
            "0.0\n",
            "0.0\n",
            "0.0\n",
            "0.0\n",
            "0.0\n",
            "0.0\n"
          ],
          "name": "stdout"
        },
        {
          "output_type": "stream",
          "text": [
            "/usr/local/lib/python3.6/dist-packages/sklearn/metrics/_classification.py:1272: UndefinedMetricWarning: Precision is ill-defined and being set to 0.0 due to no predicted samples. Use `zero_division` parameter to control this behavior.\n",
            "  _warn_prf(average, modifier, msg_start, len(result))\n",
            "/usr/local/lib/python3.6/dist-packages/sklearn/metrics/_classification.py:1272: UndefinedMetricWarning: Precision is ill-defined and being set to 0.0 due to no predicted samples. Use `zero_division` parameter to control this behavior.\n",
            "  _warn_prf(average, modifier, msg_start, len(result))\n"
          ],
          "name": "stderr"
        }
      ]
    },
    {
      "cell_type": "markdown",
      "metadata": {
        "id": "a5hnYIB9RLE-",
        "colab_type": "text"
      },
      "source": [
        "## So far each algorithm gave us about 0 on test and even train datasets. But now we will add a feature, so let's see how our algorithms will train"
      ]
    },
    {
      "cell_type": "code",
      "metadata": {
        "id": "dXs4Dv-QRYZ1",
        "colab_type": "code",
        "colab": {
          "base_uri": "https://localhost:8080/",
          "height": 419
        },
        "outputId": "2d3aaf6b-3ca6-42d5-8d22-b478bc815085"
      },
      "source": [
        "x = pd.DataFrame(x)\n",
        "x['diff'] = x[1] - x[0] # feature engeni\n",
        "x = x[[0, 'diff']] # we even remove one feature\n",
        "x"
      ],
      "execution_count": 14,
      "outputs": [
        {
          "output_type": "execute_result",
          "data": {
            "text/html": [
              "<div>\n",
              "<style scoped>\n",
              "    .dataframe tbody tr th:only-of-type {\n",
              "        vertical-align: middle;\n",
              "    }\n",
              "\n",
              "    .dataframe tbody tr th {\n",
              "        vertical-align: top;\n",
              "    }\n",
              "\n",
              "    .dataframe thead th {\n",
              "        text-align: right;\n",
              "    }\n",
              "</style>\n",
              "<table border=\"1\" class=\"dataframe\">\n",
              "  <thead>\n",
              "    <tr style=\"text-align: right;\">\n",
              "      <th></th>\n",
              "      <th>0</th>\n",
              "      <th>diff</th>\n",
              "    </tr>\n",
              "  </thead>\n",
              "  <tbody>\n",
              "    <tr>\n",
              "      <th>0</th>\n",
              "      <td>0.000000</td>\n",
              "      <td>2.000000</td>\n",
              "    </tr>\n",
              "    <tr>\n",
              "      <th>1</th>\n",
              "      <td>4.016064</td>\n",
              "      <td>2.000000</td>\n",
              "    </tr>\n",
              "    <tr>\n",
              "      <th>2</th>\n",
              "      <td>8.032129</td>\n",
              "      <td>2.000000</td>\n",
              "    </tr>\n",
              "    <tr>\n",
              "      <th>3</th>\n",
              "      <td>12.048193</td>\n",
              "      <td>2.000000</td>\n",
              "    </tr>\n",
              "    <tr>\n",
              "      <th>4</th>\n",
              "      <td>16.064257</td>\n",
              "      <td>2.000000</td>\n",
              "    </tr>\n",
              "    <tr>\n",
              "      <th>...</th>\n",
              "      <td>...</td>\n",
              "      <td>...</td>\n",
              "    </tr>\n",
              "    <tr>\n",
              "      <th>5495</th>\n",
              "      <td>998.399360</td>\n",
              "      <td>0.694848</td>\n",
              "    </tr>\n",
              "    <tr>\n",
              "      <th>5496</th>\n",
              "      <td>998.799520</td>\n",
              "      <td>0.188131</td>\n",
              "    </tr>\n",
              "    <tr>\n",
              "      <th>5497</th>\n",
              "      <td>999.199680</td>\n",
              "      <td>-0.608309</td>\n",
              "    </tr>\n",
              "    <tr>\n",
              "      <th>5498</th>\n",
              "      <td>999.599840</td>\n",
              "      <td>-0.845522</td>\n",
              "    </tr>\n",
              "    <tr>\n",
              "      <th>5499</th>\n",
              "      <td>1000.000000</td>\n",
              "      <td>-0.398417</td>\n",
              "    </tr>\n",
              "  </tbody>\n",
              "</table>\n",
              "<p>5500 rows × 2 columns</p>\n",
              "</div>"
            ],
            "text/plain": [
              "                0      diff\n",
              "0        0.000000  2.000000\n",
              "1        4.016064  2.000000\n",
              "2        8.032129  2.000000\n",
              "3       12.048193  2.000000\n",
              "4       16.064257  2.000000\n",
              "...           ...       ...\n",
              "5495   998.399360  0.694848\n",
              "5496   998.799520  0.188131\n",
              "5497   999.199680 -0.608309\n",
              "5498   999.599840 -0.845522\n",
              "5499  1000.000000 -0.398417\n",
              "\n",
              "[5500 rows x 2 columns]"
            ]
          },
          "metadata": {
            "tags": []
          },
          "execution_count": 14
        }
      ]
    },
    {
      "cell_type": "markdown",
      "metadata": {
        "id": "7XDapRorRnOX",
        "colab_type": "text"
      },
      "source": [
        "### Let's draw our current dataset:"
      ]
    },
    {
      "cell_type": "code",
      "metadata": {
        "id": "_qlo_nMlRqjh",
        "colab_type": "code",
        "colab": {
          "base_uri": "https://localhost:8080/",
          "height": 258
        },
        "outputId": "cae71312-c81c-4431-868a-910891e49a30"
      },
      "source": [
        "x_temp = x.copy()\n",
        "x_temp['y'] = y\n",
        "ax2 = x_temp.plot.scatter(x=0,\n",
        "                     y='diff',\n",
        "                     c = 'y',\n",
        "                      colormap='viridis')"
      ],
      "execution_count": 15,
      "outputs": [
        {
          "output_type": "display_data",
          "data": {
            "image/png": "[encoded data removed]",
            "text/plain": [
              "<Figure size 432x288 with 2 Axes>"
            ]
          },
          "metadata": {
            "tags": []
          }
        }
      ]
    },
    {
      "cell_type": "code",
      "metadata": {
        "id": "aao0uIvOEPmt",
        "colab_type": "code",
        "colab": {
          "base_uri": "https://localhost:8080/",
          "height": 68
        },
        "outputId": "0f277c00-33ac-496a-e423-e4cddfcbd2df"
      },
      "source": [
        "X_train, X_test, y_train, y_test = train_test_split(x, y, test_size=0.2)\n",
        "\n",
        "clf = RandomForestClassifier(n_estimators=20)\n",
        "clf.fit(X_train, y_train)\n",
        "\n",
        "y_pred = clf.predict(X_test)\n",
        "print(f1_score(y_test, y_pred))\n",
        "print(precision_score(y_test, y_pred))\n",
        "print(recall_score(y_test, y_pred))"
      ],
      "execution_count": 16,
      "outputs": [
        {
          "output_type": "stream",
          "text": [
            "0.9907407407407407\n",
            "0.981651376146789\n",
            "1.0\n"
          ],
          "name": "stdout"
        }
      ]
    },
    {
      "cell_type": "code",
      "metadata": {
        "id": "cInlsAt9Eamz",
        "colab_type": "code",
        "colab": {
          "base_uri": "https://localhost:8080/",
          "height": 68
        },
        "outputId": "0befc0d1-186e-4fa7-ca16-bda852def0c7"
      },
      "source": [
        "X_train, X_test, y_train, y_test = train_test_split(x, y, test_size=0.2)\n",
        "\n",
        "clf = XGBClassifier(n_estimators=200)\n",
        "clf.fit(X_train, y_train)\n",
        "\n",
        "y_pred = clf.predict(X_test)\n",
        "print(f1_score(y_test, y_pred))\n",
        "print(precision_score(y_test, y_pred))\n",
        "print(recall_score(y_test, y_pred))"
      ],
      "execution_count": 17,
      "outputs": [
        {
          "output_type": "stream",
          "text": [
            "1.0\n",
            "1.0\n",
            "1.0\n"
          ],
          "name": "stdout"
        }
      ]
    },
    {
      "cell_type": "code",
      "metadata": {
        "id": "kzoPsSp6EDvC",
        "colab_type": "code",
        "colab": {
          "base_uri": "https://localhost:8080/",
          "height": 34
        },
        "outputId": "1e112f04-3deb-4930-c530-ebc9c6216ab6"
      },
      "source": [
        "from keras import Sequential\n",
        "from keras.layers import Dense\n",
        "\n",
        "model = Sequential()\n",
        "model.add(Dense(32, activation='relu', input_dim=x.shape[1]))\n",
        "model.add(Dense(1, activation='sigmoid'))\n",
        "model.compile(optimizer='adam',\n",
        "              loss='binary_crossentropy',\n",
        "              metrics=['accuracy', f1])\n",
        "# model.fit(X, y, epochs=100, verbose=0)\n",
        "model.fit(X_train, y_train, epochs=50, verbose=0)"
      ],
      "execution_count": 18,
      "outputs": [
        {
          "output_type": "execute_result",
          "data": {
            "text/plain": [
              "<keras.callbacks.History at 0x7fdacb73ab38>"
            ]
          },
          "metadata": {
            "tags": []
          },
          "execution_count": 18
        }
      ]
    },
    {
      "cell_type": "code",
      "metadata": {
        "id": "pcqSDz5CSAC1",
        "colab_type": "code",
        "colab": {
          "base_uri": "https://localhost:8080/",
          "height": 119
        },
        "outputId": "02fa29ba-daaf-4810-ee92-881bd7e7fd54"
      },
      "source": [
        "print(f1_score(y_test, np.around(model.predict(X_test))))\n",
        "print(precision_score(y_test, np.around(model.predict(X_test))))\n",
        "print(recall_score(y_test, np.around(model.predict(X_test))))\n",
        "\n",
        "print(f1_score(y_train, np.around(model.predict(X_train))))\n",
        "print(precision_score(y_train, np.around(model.predict(X_train))))\n",
        "print(recall_score(y_train, np.around(model.predict(X_train))))"
      ],
      "execution_count": 19,
      "outputs": [
        {
          "output_type": "stream",
          "text": [
            "1.0\n",
            "1.0\n",
            "1.0\n",
            "1.0\n",
            "1.0\n",
            "1.0\n"
          ],
          "name": "stdout"
        }
      ]
    },
    {
      "cell_type": "markdown",
      "metadata": {
        "id": "Xk8La105R512",
        "colab_type": "text"
      },
      "source": [
        "So now every algorithm gives about 1 precision, recall and f1. Let's see what will be the output of Logreg:"
      ]
    },
    {
      "cell_type": "code",
      "metadata": {
        "id": "I51Jgv3ED-PH",
        "colab_type": "code",
        "colab": {
          "base_uri": "https://localhost:8080/",
          "height": 122
        },
        "outputId": "2da2f17b-8d13-4631-a4f8-db21ffc4082d"
      },
      "source": [
        "clf = LogisticRegression()\n",
        "clf.fit(X_train, y_train)\n",
        "y_pred = clf.predict(X_test)\n",
        "\n",
        "print(f1_score(y_test, y_pred))\n",
        "print(precision_score(y_test, y_pred))\n",
        "print(recall_score(y_test, y_pred))"
      ],
      "execution_count": 20,
      "outputs": [
        {
          "output_type": "stream",
          "text": [
            "0.0\n",
            "0.0\n",
            "0.0\n"
          ],
          "name": "stdout"
        },
        {
          "output_type": "stream",
          "text": [
            "/usr/local/lib/python3.6/dist-packages/sklearn/metrics/_classification.py:1272: UndefinedMetricWarning: Precision is ill-defined and being set to 0.0 due to no predicted samples. Use `zero_division` parameter to control this behavior.\n",
            "  _warn_prf(average, modifier, msg_start, len(result))\n"
          ],
          "name": "stderr"
        }
      ]
    },
    {
      "cell_type": "markdown",
      "metadata": {
        "id": "VcN6L_SRYdXw",
        "colab_type": "text"
      },
      "source": [
        "Still all metrics are zero. Let's check LogReg for the whole dataset:"
      ]
    },
    {
      "cell_type": "code",
      "metadata": {
        "id": "k8zb4i9bYid7",
        "colab_type": "code",
        "colab": {
          "base_uri": "https://localhost:8080/",
          "height": 122
        },
        "outputId": "483ce446-a010-4df4-8d98-a1ffac72e50d"
      },
      "source": [
        "clf = LogisticRegression()\n",
        "clf.fit(x, y)\n",
        "y_pred = clf.predict(x)\n",
        "\n",
        "print(f1_score(y, y_pred))\n",
        "print(precision_score(y, y_pred))\n",
        "print(recall_score(y, y_pred))"
      ],
      "execution_count": 21,
      "outputs": [
        {
          "output_type": "stream",
          "text": [
            "0.0\n",
            "0.0\n",
            "0.0\n"
          ],
          "name": "stdout"
        },
        {
          "output_type": "stream",
          "text": [
            "/usr/local/lib/python3.6/dist-packages/sklearn/metrics/_classification.py:1272: UndefinedMetricWarning: Precision is ill-defined and being set to 0.0 due to no predicted samples. Use `zero_division` parameter to control this behavior.\n",
            "  _warn_prf(average, modifier, msg_start, len(result))\n"
          ],
          "name": "stderr"
        }
      ]
    },
    {
      "cell_type": "markdown",
      "metadata": {
        "id": "Crok3WWgYmgG",
        "colab_type": "text"
      },
      "source": [
        "And still everything is zero!"
      ]
    },
    {
      "cell_type": "markdown",
      "metadata": {
        "id": "VUJP-KTjTB_b",
        "colab_type": "text"
      },
      "source": [
        "Let's look at the coefficients:"
      ]
    },
    {
      "cell_type": "code",
      "metadata": {
        "id": "2MU_bQtkJ1q8",
        "colab_type": "code",
        "colab": {
          "base_uri": "https://localhost:8080/",
          "height": 34
        },
        "outputId": "683a4f55-05a6-4e69-eaad-0659f528c3af"
      },
      "source": [
        "print(clf.coef_, clf.intercept_)"
      ],
      "execution_count": 22,
      "outputs": [
        {
          "output_type": "stream",
          "text": [
            "[[-1.15613893e-07  6.58960403e-03]] [-2.30251545]\n"
          ],
          "name": "stdout"
        }
      ]
    },
    {
      "cell_type": "markdown",
      "metadata": {
        "id": "39zMrGaqTEYz",
        "colab_type": "text"
      },
      "source": [
        "That means that we have decision line:\n",
        "approximately: $0 \\cdot x + 0.061y-2.3=0$\n",
        "\n",
        "If you draw this line you will see that the whole dataset lines on one side of this line, that's why algorithm predicts everything as 0"
      ]
    },
    {
      "cell_type": "markdown",
      "metadata": {
        "id": "OcXN1sIyTttx",
        "colab_type": "text"
      },
      "source": [
        "Let's check it:"
      ]
    },
    {
      "cell_type": "code",
      "metadata": {
        "id": "E0bcLVvyTo12",
        "colab_type": "code",
        "colab": {}
      },
      "source": [
        "y_pred = clf.predict(x)\n",
        "assert y_pred.sum() == 0"
      ],
      "execution_count": 0,
      "outputs": []
    },
    {
      "cell_type": "markdown",
      "metadata": {
        "id": "my96em1ST1Am",
        "colab_type": "text"
      },
      "source": [
        "Let's test LogReg on smaller dataset:"
      ]
    },
    {
      "cell_type": "code",
      "metadata": {
        "id": "38mgXh2l9rLQ",
        "colab_type": "code",
        "colab": {
          "base_uri": "https://localhost:8080/",
          "height": 258
        },
        "outputId": "8b4a3ea3-eef7-4a3a-a264-a4bb82a5c36f"
      },
      "source": [
        "x_temp = x.copy()\n",
        "x_temp = x_temp[250:]\n",
        "y_temp = y.copy()[250:]\n",
        "x_temp['y'] = y_temp\n",
        "ax3 = x_temp.plot.scatter(x=0,\n",
        "                     y='diff',\n",
        "                     c = 'y',\n",
        "                      colormap='viridis')"
      ],
      "execution_count": 24,
      "outputs": [
        {
          "output_type": "display_data",
          "data": {
            "image/png": "[encoded data removed]",
            "text/plain": [
              "<Figure size 432x288 with 2 Axes>"
            ]
          },
          "metadata": {
            "tags": []
          }
        }
      ]
    },
    {
      "cell_type": "code",
      "metadata": {
        "id": "MZKsKoOf9P4e",
        "colab_type": "code",
        "colab": {
          "base_uri": "https://localhost:8080/",
          "height": 68
        },
        "outputId": "fdcfa52a-495d-48f2-eec7-a6318cb2acdf"
      },
      "source": [
        "clf = LogisticRegression()\n",
        "clf.fit(x_temp.drop('y', axis=1), y_temp)\n",
        "y_pred = clf.predict(x_temp.drop('y', axis=1))\n",
        "\n",
        "print(f1_score(y_temp, y_pred))\n",
        "print(precision_score(y_temp, y_pred))\n",
        "print(recall_score(y_temp, y_pred))"
      ],
      "execution_count": 25,
      "outputs": [
        {
          "output_type": "stream",
          "text": [
            "1.0\n",
            "1.0\n",
            "1.0\n"
          ],
          "name": "stdout"
        }
      ]
    },
    {
      "cell_type": "markdown",
      "metadata": {
        "id": "NMSNmYPuUD5N",
        "colab_type": "text"
      },
      "source": [
        "Finally it works, let's check the line:"
      ]
    },
    {
      "cell_type": "code",
      "metadata": {
        "id": "3zoMPxsf_lSo",
        "colab_type": "code",
        "colab": {
          "base_uri": "https://localhost:8080/",
          "height": 34
        },
        "outputId": "03abada0-aaab-45dd-ad55-a46c6f3d0211"
      },
      "source": [
        "print(clf.coef_, clf.intercept_)"
      ],
      "execution_count": 26,
      "outputs": [
        {
          "output_type": "stream",
          "text": [
            "[[ 5.90323783e-05 -7.04282652e+00]] [-10.42855259]\n"
          ],
          "name": "stdout"
        }
      ]
    },
    {
      "cell_type": "markdown",
      "metadata": {
        "id": "679rUQWXUJbO",
        "colab_type": "text"
      },
      "source": [
        "So now our line is about:\n",
        "$0 \\cdot x - 7.05 \\cdot y -10.5 = 0$\n",
        "\n",
        "And if you draw this line you will see that it now it separates clearly minority and majority class"
      ]
    },
    {
      "cell_type": "code",
      "metadata": {
        "id": "QIygDNnhUISv",
        "colab_type": "code",
        "colab": {}
      },
      "source": [
        ""
      ],
      "execution_count": 0,
      "outputs": []
    }
  ]
}