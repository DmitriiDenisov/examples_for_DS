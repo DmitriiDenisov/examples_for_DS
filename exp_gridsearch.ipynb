{
 "cells": [
  {
   "cell_type": "code",
   "execution_count": 12,
   "metadata": {
    "collapsed": true
   },
   "outputs": [],
   "source": [
    "parameters = {\n",
    "    'n_estimators': [10, 50, 70, 100, 110, 120, 130],\n",
    "    'learning_rate': [0.01, 0.1, 0.2, 0.3],\n",
    "    'max_depth': [1, 2, 3]\n",
    "             }\n",
    "\n",
    "exp = GradientBoostingRegressor(criterion='mae')\n",
    "\n",
    "regr_cv = GridSearchCV(exp, parameters, cv=5, scoring='neg_mean_absolute_error', verbose=10)\n",
    "regr_cv.fit(X_train, y_train)"
   ]
  },
  {
   "cell_type": "code",
   "execution_count": 15,
   "metadata": {},
   "outputs": [
    {
     "data": {
      "text/plain": [
       "GradientBoostingRegressor(alpha=0.9, criterion='mae', init=None,\n",
       "             learning_rate=0.2, loss='ls', max_depth=3, max_features=None,\n",
       "             max_leaf_nodes=None, min_impurity_decrease=0.0,\n",
       "             min_impurity_split=None, min_samples_leaf=1,\n",
       "             min_samples_split=2, min_weight_fraction_leaf=0.0,\n",
       "             n_estimators=120, presort='auto', random_state=None,\n",
       "             subsample=1.0, verbose=0, warm_start=False)"
      ]
     },
     "execution_count": 15,
     "metadata": {},
     "output_type": "execute_result"
    }
   ],
   "source": [
    "regr_cv.best_estimator_"
   ]
  },
  {
   "cell_type": "code",
   "execution_count": 16,
   "metadata": {},
   "outputs": [
    {
     "data": {
      "text/plain": [
       "array([-0.43520485, -0.42533882, -0.42155744, -0.41734429, -0.41614226,\n",
       "       -0.41491212, -0.41382052, -0.4325297 , -0.4155922 , -0.41051762,\n",
       "       -0.40452288, -0.40288354, -0.4014791 , -0.4001669 , -0.42950278,\n",
       "       -0.40454656, -0.39655516, -0.38941951, -0.38728479, -0.38571997,\n",
       "       -0.38378415, -0.41633351, -0.39510312, -0.39198216, -0.38860588,\n",
       "       -0.38744524, -0.38694783, -0.38672849, -0.40384059, -0.37489735,\n",
       "       -0.36624929, -0.35806795, -0.35709966, -0.3546713 , -0.35396249,\n",
       "       -0.38836711, -0.34968517, -0.33915627, -0.33121071, -0.33159325,\n",
       "       -0.32900039, -0.32881431, -0.40645614, -0.38810321, -0.38571055,\n",
       "       -0.38195849, -0.38162395, -0.38062264, -0.37976826, -0.38808044,\n",
       "       -0.35800765, -0.35254721, -0.34701577, -0.34558755, -0.34419339,\n",
       "       -0.34575153, -0.37014379, -0.33490266, -0.32962774, -0.32773887,\n",
       "       -0.32734631, -0.32335136, -0.32407595, -0.40073135, -0.38712182,\n",
       "       -0.38205321, -0.38035045, -0.37918118, -0.37809027, -0.37721081,\n",
       "       -0.38815328, -0.3479936 , -0.34465267, -0.34318549, -0.34483469,\n",
       "       -0.3486067 , -0.34813781, -0.35631191, -0.33217213, -0.33138419,\n",
       "       -0.32541379, -0.32574132, -0.32786169, -0.33095165])"
      ]
     },
     "execution_count": 16,
     "metadata": {},
     "output_type": "execute_result"
    }
   ],
   "source": [
    "regr_cv.cv_results_['mean_test_score']"
   ]
  },
  {
   "cell_type": "code",
   "execution_count": null,
   "metadata": {
    "collapsed": true
   },
   "outputs": [],
   "source": []
  }
 ],
 "metadata": {
  "kernelspec": {
   "display_name": "Python 3",
   "language": "python",
   "name": "python3"
  },
  "language_info": {
   "codemirror_mode": {
    "name": "ipython",
    "version": 3
   },
   "file_extension": ".py",
   "mimetype": "text/x-python",
   "name": "python",
   "nbconvert_exporter": "python",
   "pygments_lexer": "ipython3",
   "version": "3.6.4"
  }
 },
 "nbformat": 4,
 "nbformat_minor": 1
}
